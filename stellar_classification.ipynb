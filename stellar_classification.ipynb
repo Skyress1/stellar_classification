{
 "cells": [
  {
   "cell_type": "markdown",
   "id": "ab9ac77e",
   "metadata": {},
   "source": [
    "# Stellar Classification"
   ]
  },
  {
   "cell_type": "markdown",
   "id": "7ee8bbd2",
   "metadata": {},
   "source": [
    "## Dataset"
   ]
  },
  {
   "cell_type": "markdown",
   "id": "141dccee",
   "metadata": {},
   "source": [
    "https://www.kaggle.com/datasets/fedesoriano/stellar-classification-dataset-sdss17"
   ]
  },
  {
   "cell_type": "markdown",
   "id": "f6842c99",
   "metadata": {},
   "source": [
    "## Importing the libraries"
   ]
  },
  {
   "cell_type": "code",
   "execution_count": 1,
   "id": "64b091fe",
   "metadata": {},
   "outputs": [],
   "source": [
    "import pandas as pd\n",
    "import numpy as np\n",
    "import matplotlib.pyplot as plt\n",
    "from sklearn.model_selection import train_test_split\n",
    "from imblearn.over_sampling import SMOTE\n",
    "from sklearn.metrics import classification_report\n",
    "from sklearn.tree import DecisionTreeClassifier\n",
    "from sklearn.preprocessing import StandardScaler\n",
    "from sklearn.ensemble import GradientBoostingClassifier\n",
    "from sklearn.ensemble import ExtraTreesClassifier\n",
    "from sklearn.ensemble import RandomForestClassifier\n",
    "from sklearn.ensemble import AdaBoostClassifier\n",
    "from sklearn.preprocessing import LabelEncoder\n",
    "import seaborn as sns"
   ]
  },
  {
   "cell_type": "markdown",
   "id": "3f89623d",
   "metadata": {},
   "source": [
    "## Importing the dataset"
   ]
  },
  {
   "cell_type": "code",
   "execution_count": 2,
   "id": "af3dea27",
   "metadata": {},
   "outputs": [],
   "source": [
    "dataset = pd.read_csv(\"star_classification.csv\")"
   ]
  },
  {
   "cell_type": "code",
   "execution_count": 3,
   "id": "447ec7c1",
   "metadata": {},
   "outputs": [
    {
     "data": {
      "text/html": [
       "<div>\n",
       "<style scoped>\n",
       "    .dataframe tbody tr th:only-of-type {\n",
       "        vertical-align: middle;\n",
       "    }\n",
       "\n",
       "    .dataframe tbody tr th {\n",
       "        vertical-align: top;\n",
       "    }\n",
       "\n",
       "    .dataframe thead th {\n",
       "        text-align: right;\n",
       "    }\n",
       "</style>\n",
       "<table border=\"1\" class=\"dataframe\">\n",
       "  <thead>\n",
       "    <tr style=\"text-align: right;\">\n",
       "      <th></th>\n",
       "      <th>obj_ID</th>\n",
       "      <th>alpha</th>\n",
       "      <th>delta</th>\n",
       "      <th>u</th>\n",
       "      <th>g</th>\n",
       "      <th>r</th>\n",
       "      <th>i</th>\n",
       "      <th>z</th>\n",
       "      <th>run_ID</th>\n",
       "      <th>rerun_ID</th>\n",
       "      <th>cam_col</th>\n",
       "      <th>field_ID</th>\n",
       "      <th>spec_obj_ID</th>\n",
       "      <th>class</th>\n",
       "      <th>redshift</th>\n",
       "      <th>plate</th>\n",
       "      <th>MJD</th>\n",
       "      <th>fiber_ID</th>\n",
       "    </tr>\n",
       "  </thead>\n",
       "  <tbody>\n",
       "    <tr>\n",
       "      <th>0</th>\n",
       "      <td>1.237661e+18</td>\n",
       "      <td>135.689107</td>\n",
       "      <td>32.494632</td>\n",
       "      <td>23.87882</td>\n",
       "      <td>22.27530</td>\n",
       "      <td>20.39501</td>\n",
       "      <td>19.16573</td>\n",
       "      <td>18.79371</td>\n",
       "      <td>3606</td>\n",
       "      <td>301</td>\n",
       "      <td>2</td>\n",
       "      <td>79</td>\n",
       "      <td>6.543777e+18</td>\n",
       "      <td>GALAXY</td>\n",
       "      <td>0.634794</td>\n",
       "      <td>5812</td>\n",
       "      <td>56354</td>\n",
       "      <td>171</td>\n",
       "    </tr>\n",
       "    <tr>\n",
       "      <th>1</th>\n",
       "      <td>1.237665e+18</td>\n",
       "      <td>144.826101</td>\n",
       "      <td>31.274185</td>\n",
       "      <td>24.77759</td>\n",
       "      <td>22.83188</td>\n",
       "      <td>22.58444</td>\n",
       "      <td>21.16812</td>\n",
       "      <td>21.61427</td>\n",
       "      <td>4518</td>\n",
       "      <td>301</td>\n",
       "      <td>5</td>\n",
       "      <td>119</td>\n",
       "      <td>1.176014e+19</td>\n",
       "      <td>GALAXY</td>\n",
       "      <td>0.779136</td>\n",
       "      <td>10445</td>\n",
       "      <td>58158</td>\n",
       "      <td>427</td>\n",
       "    </tr>\n",
       "    <tr>\n",
       "      <th>2</th>\n",
       "      <td>1.237661e+18</td>\n",
       "      <td>142.188790</td>\n",
       "      <td>35.582444</td>\n",
       "      <td>25.26307</td>\n",
       "      <td>22.66389</td>\n",
       "      <td>20.60976</td>\n",
       "      <td>19.34857</td>\n",
       "      <td>18.94827</td>\n",
       "      <td>3606</td>\n",
       "      <td>301</td>\n",
       "      <td>2</td>\n",
       "      <td>120</td>\n",
       "      <td>5.152200e+18</td>\n",
       "      <td>GALAXY</td>\n",
       "      <td>0.644195</td>\n",
       "      <td>4576</td>\n",
       "      <td>55592</td>\n",
       "      <td>299</td>\n",
       "    </tr>\n",
       "    <tr>\n",
       "      <th>3</th>\n",
       "      <td>1.237663e+18</td>\n",
       "      <td>338.741038</td>\n",
       "      <td>-0.402828</td>\n",
       "      <td>22.13682</td>\n",
       "      <td>23.77656</td>\n",
       "      <td>21.61162</td>\n",
       "      <td>20.50454</td>\n",
       "      <td>19.25010</td>\n",
       "      <td>4192</td>\n",
       "      <td>301</td>\n",
       "      <td>3</td>\n",
       "      <td>214</td>\n",
       "      <td>1.030107e+19</td>\n",
       "      <td>GALAXY</td>\n",
       "      <td>0.932346</td>\n",
       "      <td>9149</td>\n",
       "      <td>58039</td>\n",
       "      <td>775</td>\n",
       "    </tr>\n",
       "    <tr>\n",
       "      <th>4</th>\n",
       "      <td>1.237680e+18</td>\n",
       "      <td>345.282593</td>\n",
       "      <td>21.183866</td>\n",
       "      <td>19.43718</td>\n",
       "      <td>17.58028</td>\n",
       "      <td>16.49747</td>\n",
       "      <td>15.97711</td>\n",
       "      <td>15.54461</td>\n",
       "      <td>8102</td>\n",
       "      <td>301</td>\n",
       "      <td>3</td>\n",
       "      <td>137</td>\n",
       "      <td>6.891865e+18</td>\n",
       "      <td>GALAXY</td>\n",
       "      <td>0.116123</td>\n",
       "      <td>6121</td>\n",
       "      <td>56187</td>\n",
       "      <td>842</td>\n",
       "    </tr>\n",
       "    <tr>\n",
       "      <th>...</th>\n",
       "      <td>...</td>\n",
       "      <td>...</td>\n",
       "      <td>...</td>\n",
       "      <td>...</td>\n",
       "      <td>...</td>\n",
       "      <td>...</td>\n",
       "      <td>...</td>\n",
       "      <td>...</td>\n",
       "      <td>...</td>\n",
       "      <td>...</td>\n",
       "      <td>...</td>\n",
       "      <td>...</td>\n",
       "      <td>...</td>\n",
       "      <td>...</td>\n",
       "      <td>...</td>\n",
       "      <td>...</td>\n",
       "      <td>...</td>\n",
       "      <td>...</td>\n",
       "    </tr>\n",
       "    <tr>\n",
       "      <th>99995</th>\n",
       "      <td>1.237679e+18</td>\n",
       "      <td>39.620709</td>\n",
       "      <td>-2.594074</td>\n",
       "      <td>22.16759</td>\n",
       "      <td>22.97586</td>\n",
       "      <td>21.90404</td>\n",
       "      <td>21.30548</td>\n",
       "      <td>20.73569</td>\n",
       "      <td>7778</td>\n",
       "      <td>301</td>\n",
       "      <td>2</td>\n",
       "      <td>581</td>\n",
       "      <td>1.055431e+19</td>\n",
       "      <td>GALAXY</td>\n",
       "      <td>0.000000</td>\n",
       "      <td>9374</td>\n",
       "      <td>57749</td>\n",
       "      <td>438</td>\n",
       "    </tr>\n",
       "    <tr>\n",
       "      <th>99996</th>\n",
       "      <td>1.237679e+18</td>\n",
       "      <td>29.493819</td>\n",
       "      <td>19.798874</td>\n",
       "      <td>22.69118</td>\n",
       "      <td>22.38628</td>\n",
       "      <td>20.45003</td>\n",
       "      <td>19.75759</td>\n",
       "      <td>19.41526</td>\n",
       "      <td>7917</td>\n",
       "      <td>301</td>\n",
       "      <td>1</td>\n",
       "      <td>289</td>\n",
       "      <td>8.586351e+18</td>\n",
       "      <td>GALAXY</td>\n",
       "      <td>0.404895</td>\n",
       "      <td>7626</td>\n",
       "      <td>56934</td>\n",
       "      <td>866</td>\n",
       "    </tr>\n",
       "    <tr>\n",
       "      <th>99997</th>\n",
       "      <td>1.237668e+18</td>\n",
       "      <td>224.587407</td>\n",
       "      <td>15.700707</td>\n",
       "      <td>21.16916</td>\n",
       "      <td>19.26997</td>\n",
       "      <td>18.20428</td>\n",
       "      <td>17.69034</td>\n",
       "      <td>17.35221</td>\n",
       "      <td>5314</td>\n",
       "      <td>301</td>\n",
       "      <td>4</td>\n",
       "      <td>308</td>\n",
       "      <td>3.112008e+18</td>\n",
       "      <td>GALAXY</td>\n",
       "      <td>0.143366</td>\n",
       "      <td>2764</td>\n",
       "      <td>54535</td>\n",
       "      <td>74</td>\n",
       "    </tr>\n",
       "    <tr>\n",
       "      <th>99998</th>\n",
       "      <td>1.237661e+18</td>\n",
       "      <td>212.268621</td>\n",
       "      <td>46.660365</td>\n",
       "      <td>25.35039</td>\n",
       "      <td>21.63757</td>\n",
       "      <td>19.91386</td>\n",
       "      <td>19.07254</td>\n",
       "      <td>18.62482</td>\n",
       "      <td>3650</td>\n",
       "      <td>301</td>\n",
       "      <td>4</td>\n",
       "      <td>131</td>\n",
       "      <td>7.601080e+18</td>\n",
       "      <td>GALAXY</td>\n",
       "      <td>0.455040</td>\n",
       "      <td>6751</td>\n",
       "      <td>56368</td>\n",
       "      <td>470</td>\n",
       "    </tr>\n",
       "    <tr>\n",
       "      <th>99999</th>\n",
       "      <td>1.237661e+18</td>\n",
       "      <td>196.896053</td>\n",
       "      <td>49.464643</td>\n",
       "      <td>22.62171</td>\n",
       "      <td>21.79745</td>\n",
       "      <td>20.60115</td>\n",
       "      <td>20.00959</td>\n",
       "      <td>19.28075</td>\n",
       "      <td>3650</td>\n",
       "      <td>301</td>\n",
       "      <td>4</td>\n",
       "      <td>60</td>\n",
       "      <td>8.343152e+18</td>\n",
       "      <td>GALAXY</td>\n",
       "      <td>0.542944</td>\n",
       "      <td>7410</td>\n",
       "      <td>57104</td>\n",
       "      <td>851</td>\n",
       "    </tr>\n",
       "  </tbody>\n",
       "</table>\n",
       "<p>100000 rows × 18 columns</p>\n",
       "</div>"
      ],
      "text/plain": [
       "             obj_ID       alpha      delta         u         g         r  \\\n",
       "0      1.237661e+18  135.689107  32.494632  23.87882  22.27530  20.39501   \n",
       "1      1.237665e+18  144.826101  31.274185  24.77759  22.83188  22.58444   \n",
       "2      1.237661e+18  142.188790  35.582444  25.26307  22.66389  20.60976   \n",
       "3      1.237663e+18  338.741038  -0.402828  22.13682  23.77656  21.61162   \n",
       "4      1.237680e+18  345.282593  21.183866  19.43718  17.58028  16.49747   \n",
       "...             ...         ...        ...       ...       ...       ...   \n",
       "99995  1.237679e+18   39.620709  -2.594074  22.16759  22.97586  21.90404   \n",
       "99996  1.237679e+18   29.493819  19.798874  22.69118  22.38628  20.45003   \n",
       "99997  1.237668e+18  224.587407  15.700707  21.16916  19.26997  18.20428   \n",
       "99998  1.237661e+18  212.268621  46.660365  25.35039  21.63757  19.91386   \n",
       "99999  1.237661e+18  196.896053  49.464643  22.62171  21.79745  20.60115   \n",
       "\n",
       "              i         z  run_ID  rerun_ID  cam_col  field_ID   spec_obj_ID  \\\n",
       "0      19.16573  18.79371    3606       301        2        79  6.543777e+18   \n",
       "1      21.16812  21.61427    4518       301        5       119  1.176014e+19   \n",
       "2      19.34857  18.94827    3606       301        2       120  5.152200e+18   \n",
       "3      20.50454  19.25010    4192       301        3       214  1.030107e+19   \n",
       "4      15.97711  15.54461    8102       301        3       137  6.891865e+18   \n",
       "...         ...       ...     ...       ...      ...       ...           ...   \n",
       "99995  21.30548  20.73569    7778       301        2       581  1.055431e+19   \n",
       "99996  19.75759  19.41526    7917       301        1       289  8.586351e+18   \n",
       "99997  17.69034  17.35221    5314       301        4       308  3.112008e+18   \n",
       "99998  19.07254  18.62482    3650       301        4       131  7.601080e+18   \n",
       "99999  20.00959  19.28075    3650       301        4        60  8.343152e+18   \n",
       "\n",
       "        class  redshift  plate    MJD  fiber_ID  \n",
       "0      GALAXY  0.634794   5812  56354       171  \n",
       "1      GALAXY  0.779136  10445  58158       427  \n",
       "2      GALAXY  0.644195   4576  55592       299  \n",
       "3      GALAXY  0.932346   9149  58039       775  \n",
       "4      GALAXY  0.116123   6121  56187       842  \n",
       "...       ...       ...    ...    ...       ...  \n",
       "99995  GALAXY  0.000000   9374  57749       438  \n",
       "99996  GALAXY  0.404895   7626  56934       866  \n",
       "99997  GALAXY  0.143366   2764  54535        74  \n",
       "99998  GALAXY  0.455040   6751  56368       470  \n",
       "99999  GALAXY  0.542944   7410  57104       851  \n",
       "\n",
       "[100000 rows x 18 columns]"
      ]
     },
     "execution_count": 3,
     "metadata": {},
     "output_type": "execute_result"
    }
   ],
   "source": [
    "dataset"
   ]
  },
  {
   "cell_type": "code",
   "execution_count": 4,
   "id": "9718d3ff",
   "metadata": {},
   "outputs": [
    {
     "name": "stdout",
     "output_type": "stream",
     "text": [
      "<class 'pandas.core.frame.DataFrame'>\n",
      "RangeIndex: 100000 entries, 0 to 99999\n",
      "Data columns (total 18 columns):\n",
      " #   Column       Non-Null Count   Dtype  \n",
      "---  ------       --------------   -----  \n",
      " 0   obj_ID       100000 non-null  float64\n",
      " 1   alpha        100000 non-null  float64\n",
      " 2   delta        100000 non-null  float64\n",
      " 3   u            100000 non-null  float64\n",
      " 4   g            100000 non-null  float64\n",
      " 5   r            100000 non-null  float64\n",
      " 6   i            100000 non-null  float64\n",
      " 7   z            100000 non-null  float64\n",
      " 8   run_ID       100000 non-null  int64  \n",
      " 9   rerun_ID     100000 non-null  int64  \n",
      " 10  cam_col      100000 non-null  int64  \n",
      " 11  field_ID     100000 non-null  int64  \n",
      " 12  spec_obj_ID  100000 non-null  float64\n",
      " 13  class        100000 non-null  object \n",
      " 14  redshift     100000 non-null  float64\n",
      " 15  plate        100000 non-null  int64  \n",
      " 16  MJD          100000 non-null  int64  \n",
      " 17  fiber_ID     100000 non-null  int64  \n",
      "dtypes: float64(10), int64(7), object(1)\n",
      "memory usage: 13.7+ MB\n"
     ]
    }
   ],
   "source": [
    "dataset.info()"
   ]
  },
  {
   "cell_type": "code",
   "execution_count": 5,
   "id": "0f6c7125",
   "metadata": {},
   "outputs": [
    {
     "data": {
      "text/plain": [
       "obj_ID         0\n",
       "alpha          0\n",
       "delta          0\n",
       "u              0\n",
       "g              0\n",
       "r              0\n",
       "i              0\n",
       "z              0\n",
       "run_ID         0\n",
       "rerun_ID       0\n",
       "cam_col        0\n",
       "field_ID       0\n",
       "spec_obj_ID    0\n",
       "class          0\n",
       "redshift       0\n",
       "plate          0\n",
       "MJD            0\n",
       "fiber_ID       0\n",
       "dtype: int64"
      ]
     },
     "execution_count": 5,
     "metadata": {},
     "output_type": "execute_result"
    }
   ],
   "source": [
    "dataset.isna().sum(axis=0)"
   ]
  },
  {
   "cell_type": "markdown",
   "id": "81db70bc",
   "metadata": {},
   "source": [
    "## Data Preprocessing"
   ]
  },
  {
   "cell_type": "code",
   "execution_count": 6,
   "id": "030a4bbc",
   "metadata": {},
   "outputs": [
    {
     "name": "stdout",
     "output_type": "stream",
     "text": [
      "['GALAXY' 'QSO' 'STAR']\n"
     ]
    }
   ],
   "source": [
    "le = LabelEncoder()\n",
    "dataset[\"class\"] = le.fit_transform(dataset[\"class\"])\n",
    "print(le.classes_)"
   ]
  },
  {
   "cell_type": "code",
   "execution_count": 7,
   "id": "238d5f00",
   "metadata": {},
   "outputs": [
    {
     "data": {
      "text/plain": [
       "0        0\n",
       "1        0\n",
       "2        0\n",
       "3        0\n",
       "4        0\n",
       "        ..\n",
       "99995    0\n",
       "99996    0\n",
       "99997    0\n",
       "99998    0\n",
       "99999    0\n",
       "Name: class, Length: 100000, dtype: int32"
      ]
     },
     "execution_count": 7,
     "metadata": {},
     "output_type": "execute_result"
    }
   ],
   "source": [
    "y = dataset[\"class\"]\n",
    "y"
   ]
  },
  {
   "cell_type": "code",
   "execution_count": 8,
   "id": "183752d3",
   "metadata": {},
   "outputs": [
    {
     "name": "stdout",
     "output_type": "stream",
     "text": [
      "GALAXY(0) sınıfına ait veri sayısı = 59445\n",
      "QSO(1) sınıfına ait veri sayısı = 18961\n",
      "STAR(2) sınıfına ait veri sayısı = 21594\n"
     ]
    }
   ],
   "source": [
    "print(\"GALAXY(0) sınıfına ait veri sayısı =\", y[y==0].count())\n",
    "print(\"QSO(1) sınıfına ait veri sayısı =\", y[y==1].count())\n",
    "print(\"STAR(2) sınıfına ait veri sayısı =\", y[y==2].count())"
   ]
  },
  {
   "cell_type": "code",
   "execution_count": 9,
   "id": "3c76427c",
   "metadata": {},
   "outputs": [],
   "source": [
    "dataset.drop(\"class\", axis=1, inplace=True)"
   ]
  },
  {
   "cell_type": "code",
   "execution_count": 10,
   "id": "e5f1af1d",
   "metadata": {},
   "outputs": [],
   "source": [
    "X = dataset.values\n",
    "y = y.values"
   ]
  },
  {
   "cell_type": "code",
   "execution_count": 11,
   "id": "42a48a31",
   "metadata": {},
   "outputs": [],
   "source": [
    "X_train, X_test, y_train, y_test = train_test_split(X, y, test_size = 0.30, random_state = 12)"
   ]
  },
  {
   "cell_type": "code",
   "execution_count": 12,
   "id": "4faecb32",
   "metadata": {},
   "outputs": [
    {
     "name": "stdout",
     "output_type": "stream",
     "text": [
      "Eğitim verileri = (70000, 17)\n",
      "Eğitim etiketleri = (70000,)\n",
      "Test verileri = (30000, 17)\n",
      "Test etiketleri = (30000,)\n"
     ]
    }
   ],
   "source": [
    "print(\"Eğitim verileri =\", X_train.shape)\n",
    "print(\"Eğitim etiketleri =\", y_train.shape)\n",
    "print(\"Test verileri =\", X_test.shape)\n",
    "print(\"Test etiketleri =\", y_test.shape)"
   ]
  },
  {
   "cell_type": "code",
   "execution_count": 13,
   "id": "4bbfdbd7",
   "metadata": {},
   "outputs": [
    {
     "name": "stdout",
     "output_type": "stream",
     "text": [
      "Eğitim için GALAXY(0) sınıfına ait veri sayısı = 41600\n",
      "Eğitim için QSO(1) sınıfına ait veri sayısı = 13394\n",
      "Eğitim için STAR(2) sınıfına ait veri sayısı = 15006\n",
      "Test için GALAXY(0) sınıfına ait veri sayısı = 17845\n",
      "Test için QSO(1) sınıfına ait veri sayısı = 5567\n",
      "Test için STAR(2) sınıfına ait veri sayısı = 6588\n"
     ]
    }
   ],
   "source": [
    "print(\"Eğitim için GALAXY(0) sınıfına ait veri sayısı =\", len(y_train[y_train==0]))\n",
    "print(\"Eğitim için QSO(1) sınıfına ait veri sayısı =\", len(y_train[y_train==1]))\n",
    "print(\"Eğitim için STAR(2) sınıfına ait veri sayısı =\", len(y_train[y_train==2]))\n",
    "print(\"Test için GALAXY(0) sınıfına ait veri sayısı =\", len(y_test[y_test==0]))\n",
    "print(\"Test için QSO(1) sınıfına ait veri sayısı =\", len(y_test[y_test==1]))\n",
    "print(\"Test için STAR(2) sınıfına ait veri sayısı =\", len(y_test[y_test==2]))"
   ]
  },
  {
   "cell_type": "code",
   "execution_count": 14,
   "id": "31a17427",
   "metadata": {},
   "outputs": [],
   "source": [
    "sc = StandardScaler()\n",
    "X_train = sc.fit_transform(X_train)\n",
    "X_test = sc.transform(X_test)"
   ]
  },
  {
   "cell_type": "code",
   "execution_count": 15,
   "id": "14d721ff",
   "metadata": {},
   "outputs": [],
   "source": [
    "results = []"
   ]
  },
  {
   "cell_type": "markdown",
   "id": "928c1a88",
   "metadata": {},
   "source": [
    "## Decision Tree Classifier"
   ]
  },
  {
   "cell_type": "code",
   "execution_count": 16,
   "id": "54b66061",
   "metadata": {},
   "outputs": [],
   "source": [
    "classifier1 = DecisionTreeClassifier(criterion = 'entropy', random_state = 0)\n",
    "classifier1.fit(X_train, y_train)\n",
    "y_pred = classifier1.predict(X_test)\n",
    "results.append([\"Decision Tree Classifier\", classification_report(y_test, y_pred, target_names=['GALAXY', 'QSO', 'STAR'], digits=4)])"
   ]
  },
  {
   "cell_type": "markdown",
   "id": "fda67f65",
   "metadata": {},
   "source": [
    "## AdaBoost Classifier"
   ]
  },
  {
   "cell_type": "code",
   "execution_count": 17,
   "id": "c2b5bcbc",
   "metadata": {},
   "outputs": [],
   "source": [
    "classifier2 = AdaBoostClassifier(n_estimators=1000, learning_rate=0.1, random_state=0)\n",
    "classifier2.fit(X_train, y_train)\n",
    "y_pred = classifier2.predict(X_test)\n",
    "results.append([\"AdaBoost Classifier\", classification_report(y_test, y_pred, target_names=['GALAXY', 'QSO', 'STAR'], digits=4)])"
   ]
  },
  {
   "cell_type": "markdown",
   "id": "2e0850a5",
   "metadata": {},
   "source": [
    "## Gradient Boosting Classifier"
   ]
  },
  {
   "cell_type": "code",
   "execution_count": 18,
   "id": "ebe547f2",
   "metadata": {},
   "outputs": [],
   "source": [
    "classifier3 = GradientBoostingClassifier(n_estimators=1000, learning_rate=0.1, max_depth=1, random_state=0)\n",
    "classifier3.fit(X_train, y_train)\n",
    "y_pred = classifier3.predict(X_test)\n",
    "results.append([\"Gradient Boosting Classifier\", classification_report(y_test, y_pred, target_names=['GALAXY', 'QSO', 'STAR'], digits=4)])"
   ]
  },
  {
   "cell_type": "markdown",
   "id": "43858b7c",
   "metadata": {},
   "source": [
    "## Extra-Trees Classifier"
   ]
  },
  {
   "cell_type": "code",
   "execution_count": 19,
   "id": "afb5ebdf",
   "metadata": {},
   "outputs": [],
   "source": [
    "classifier4 = ExtraTreesClassifier(n_estimators=5000, random_state=0)\n",
    "classifier4.fit(X_train, y_train)\n",
    "y_pred = classifier4.predict(X_test)\n",
    "results.append([\"Extra-Trees Classifier\", classification_report(y_test, y_pred, target_names=['GALAXY', 'QSO', 'STAR'], digits=4)])"
   ]
  },
  {
   "cell_type": "markdown",
   "id": "af853237",
   "metadata": {},
   "source": [
    "## Random Forest Classifier"
   ]
  },
  {
   "cell_type": "code",
   "execution_count": 20,
   "id": "b579acb9",
   "metadata": {},
   "outputs": [],
   "source": [
    "classifier5 = RandomForestClassifier()\n",
    "classifier5.fit(X_train, y_train)\n",
    "y_pred = classifier5.predict(X_test)\n",
    "results.append([\"Random Forest Classifier\", classification_report(y_test, y_pred, target_names=['GALAXY', 'QSO', 'STAR'], digits=4)])"
   ]
  },
  {
   "cell_type": "markdown",
   "id": "8290894e",
   "metadata": {},
   "source": [
    "## Results"
   ]
  },
  {
   "cell_type": "code",
   "execution_count": 21,
   "id": "987ef2d2",
   "metadata": {},
   "outputs": [
    {
     "name": "stdout",
     "output_type": "stream",
     "text": [
      "----------------------------------------------------------------------------------------------\n",
      "\n",
      "Decision Tree Classifier\n",
      "              precision    recall  f1-score   support\n",
      "\n",
      "      GALAXY     0.9722    0.9723    0.9722     17845\n",
      "         QSO     0.9159    0.9161    0.9160      5567\n",
      "        STAR     0.9954    0.9951    0.9953      6588\n",
      "\n",
      "    accuracy                         0.9669     30000\n",
      "   macro avg     0.9612    0.9612    0.9612     30000\n",
      "weighted avg     0.9669    0.9669    0.9669     30000\n",
      "\n",
      "\n",
      "----------------------------------------------------------------------------------------------\n",
      "\n",
      "AdaBoost Classifier\n",
      "              precision    recall  f1-score   support\n",
      "\n",
      "      GALAXY     0.7612    0.9918    0.8613     17845\n",
      "         QSO     0.8421    0.0029    0.0057      5567\n",
      "        STAR     0.9785    0.9994    0.9888      6588\n",
      "\n",
      "    accuracy                         0.8100     30000\n",
      "   macro avg     0.8606    0.6647    0.6186     30000\n",
      "weighted avg     0.8239    0.8100    0.7306     30000\n",
      "\n",
      "\n",
      "----------------------------------------------------------------------------------------------\n",
      "\n",
      "Gradient Boosting Classifier\n",
      "              precision    recall  f1-score   support\n",
      "\n",
      "      GALAXY     0.9726    0.9859    0.9792     17845\n",
      "         QSO     0.9590    0.9152    0.9366      5567\n",
      "        STAR     0.9947    0.9962    0.9954      6588\n",
      "\n",
      "    accuracy                         0.9751     30000\n",
      "   macro avg     0.9754    0.9658    0.9704     30000\n",
      "weighted avg     0.9749    0.9751    0.9749     30000\n",
      "\n",
      "\n",
      "----------------------------------------------------------------------------------------------\n",
      "\n",
      "Extra-Trees Classifier\n",
      "              precision    recall  f1-score   support\n",
      "\n",
      "      GALAXY     0.9750    0.9800    0.9775     17845\n",
      "         QSO     0.9666    0.9249    0.9453      5567\n",
      "        STAR     0.9722    0.9941    0.9830      6588\n",
      "\n",
      "    accuracy                         0.9729     30000\n",
      "   macro avg     0.9713    0.9663    0.9686     30000\n",
      "weighted avg     0.9728    0.9729    0.9727     30000\n",
      "\n",
      "\n",
      "----------------------------------------------------------------------------------------------\n",
      "\n",
      "Random Forest Classifier\n",
      "              precision    recall  f1-score   support\n",
      "\n",
      "      GALAXY     0.9792    0.9855    0.9823     17845\n",
      "         QSO     0.9644    0.9330    0.9484      5567\n",
      "        STAR     0.9896    0.9997    0.9946      6588\n",
      "\n",
      "    accuracy                         0.9789     30000\n",
      "   macro avg     0.9777    0.9727    0.9751     30000\n",
      "weighted avg     0.9788    0.9789    0.9788     30000\n",
      "\n",
      "\n"
     ]
    }
   ],
   "source": [
    "for name, report in results:\n",
    "    print(\"----------------------------------------------------------------------------------------------\")\n",
    "    print()\n",
    "    print(name)\n",
    "    print(report)\n",
    "    print()"
   ]
  },
  {
   "cell_type": "markdown",
   "id": "3a7e1c5a",
   "metadata": {},
   "source": [
    "## Random Forest Classifier Feature Importance"
   ]
  },
  {
   "cell_type": "code",
   "execution_count": 22,
   "id": "4bc38d56",
   "metadata": {},
   "outputs": [
    {
     "data": {
      "text/plain": [
       "<AxesSubplot:>"
      ]
     },
     "execution_count": 22,
     "metadata": {},
     "output_type": "execute_result"
    },
    {
     "data": {
      "image/png": "[encoded data removed]",
      "text/plain": [
       "<Figure size 640x480 with 1 Axes>"
      ]
     },
     "metadata": {},
     "output_type": "display_data"
    }
   ],
   "source": [
    "feature_imp = pd.Series(classifier5.feature_importances_, index= dataset.columns)\n",
    "feature_imp.nlargest(17).plot(kind='barh')"
   ]
  },
  {
   "cell_type": "code",
   "execution_count": 23,
   "id": "8df2a499",
   "metadata": {},
   "outputs": [
    {
     "data": {
      "text/html": [
       "<div>\n",
       "<style scoped>\n",
       "    .dataframe tbody tr th:only-of-type {\n",
       "        vertical-align: middle;\n",
       "    }\n",
       "\n",
       "    .dataframe tbody tr th {\n",
       "        vertical-align: top;\n",
       "    }\n",
       "\n",
       "    .dataframe thead th {\n",
       "        text-align: right;\n",
       "    }\n",
       "</style>\n",
       "<table border=\"1\" class=\"dataframe\">\n",
       "  <thead>\n",
       "    <tr style=\"text-align: right;\">\n",
       "      <th></th>\n",
       "      <th>obj_ID</th>\n",
       "      <th>alpha</th>\n",
       "      <th>delta</th>\n",
       "      <th>u</th>\n",
       "      <th>g</th>\n",
       "      <th>r</th>\n",
       "      <th>i</th>\n",
       "      <th>z</th>\n",
       "      <th>run_ID</th>\n",
       "      <th>rerun_ID</th>\n",
       "      <th>cam_col</th>\n",
       "      <th>field_ID</th>\n",
       "      <th>spec_obj_ID</th>\n",
       "      <th>redshift</th>\n",
       "      <th>plate</th>\n",
       "      <th>MJD</th>\n",
       "      <th>fiber_ID</th>\n",
       "    </tr>\n",
       "  </thead>\n",
       "  <tbody>\n",
       "    <tr>\n",
       "      <th>0</th>\n",
       "      <td>1.237661e+18</td>\n",
       "      <td>135.689107</td>\n",
       "      <td>32.494632</td>\n",
       "      <td>23.87882</td>\n",
       "      <td>22.27530</td>\n",
       "      <td>20.39501</td>\n",
       "      <td>19.16573</td>\n",
       "      <td>18.79371</td>\n",
       "      <td>3606.0</td>\n",
       "      <td>301.0</td>\n",
       "      <td>2.0</td>\n",
       "      <td>79.0</td>\n",
       "      <td>6.543777e+18</td>\n",
       "      <td>0.634794</td>\n",
       "      <td>5812.0</td>\n",
       "      <td>56354.0</td>\n",
       "      <td>171.0</td>\n",
       "    </tr>\n",
       "    <tr>\n",
       "      <th>1</th>\n",
       "      <td>1.237665e+18</td>\n",
       "      <td>144.826101</td>\n",
       "      <td>31.274185</td>\n",
       "      <td>24.77759</td>\n",
       "      <td>22.83188</td>\n",
       "      <td>22.58444</td>\n",
       "      <td>21.16812</td>\n",
       "      <td>21.61427</td>\n",
       "      <td>4518.0</td>\n",
       "      <td>301.0</td>\n",
       "      <td>5.0</td>\n",
       "      <td>119.0</td>\n",
       "      <td>1.176014e+19</td>\n",
       "      <td>0.779136</td>\n",
       "      <td>10445.0</td>\n",
       "      <td>58158.0</td>\n",
       "      <td>427.0</td>\n",
       "    </tr>\n",
       "    <tr>\n",
       "      <th>2</th>\n",
       "      <td>1.237661e+18</td>\n",
       "      <td>142.188790</td>\n",
       "      <td>35.582444</td>\n",
       "      <td>25.26307</td>\n",
       "      <td>22.66389</td>\n",
       "      <td>20.60976</td>\n",
       "      <td>19.34857</td>\n",
       "      <td>18.94827</td>\n",
       "      <td>3606.0</td>\n",
       "      <td>301.0</td>\n",
       "      <td>2.0</td>\n",
       "      <td>120.0</td>\n",
       "      <td>5.152200e+18</td>\n",
       "      <td>0.644195</td>\n",
       "      <td>4576.0</td>\n",
       "      <td>55592.0</td>\n",
       "      <td>299.0</td>\n",
       "    </tr>\n",
       "    <tr>\n",
       "      <th>3</th>\n",
       "      <td>1.237663e+18</td>\n",
       "      <td>338.741038</td>\n",
       "      <td>-0.402828</td>\n",
       "      <td>22.13682</td>\n",
       "      <td>23.77656</td>\n",
       "      <td>21.61162</td>\n",
       "      <td>20.50454</td>\n",
       "      <td>19.25010</td>\n",
       "      <td>4192.0</td>\n",
       "      <td>301.0</td>\n",
       "      <td>3.0</td>\n",
       "      <td>214.0</td>\n",
       "      <td>1.030107e+19</td>\n",
       "      <td>0.932346</td>\n",
       "      <td>9149.0</td>\n",
       "      <td>58039.0</td>\n",
       "      <td>775.0</td>\n",
       "    </tr>\n",
       "    <tr>\n",
       "      <th>4</th>\n",
       "      <td>1.237680e+18</td>\n",
       "      <td>345.282593</td>\n",
       "      <td>21.183866</td>\n",
       "      <td>19.43718</td>\n",
       "      <td>17.58028</td>\n",
       "      <td>16.49747</td>\n",
       "      <td>15.97711</td>\n",
       "      <td>15.54461</td>\n",
       "      <td>8102.0</td>\n",
       "      <td>301.0</td>\n",
       "      <td>3.0</td>\n",
       "      <td>137.0</td>\n",
       "      <td>6.891865e+18</td>\n",
       "      <td>0.116123</td>\n",
       "      <td>6121.0</td>\n",
       "      <td>56187.0</td>\n",
       "      <td>842.0</td>\n",
       "    </tr>\n",
       "    <tr>\n",
       "      <th>...</th>\n",
       "      <td>...</td>\n",
       "      <td>...</td>\n",
       "      <td>...</td>\n",
       "      <td>...</td>\n",
       "      <td>...</td>\n",
       "      <td>...</td>\n",
       "      <td>...</td>\n",
       "      <td>...</td>\n",
       "      <td>...</td>\n",
       "      <td>...</td>\n",
       "      <td>...</td>\n",
       "      <td>...</td>\n",
       "      <td>...</td>\n",
       "      <td>...</td>\n",
       "      <td>...</td>\n",
       "      <td>...</td>\n",
       "      <td>...</td>\n",
       "    </tr>\n",
       "    <tr>\n",
       "      <th>99995</th>\n",
       "      <td>1.237679e+18</td>\n",
       "      <td>39.620709</td>\n",
       "      <td>-2.594074</td>\n",
       "      <td>22.16759</td>\n",
       "      <td>22.97586</td>\n",
       "      <td>21.90404</td>\n",
       "      <td>21.30548</td>\n",
       "      <td>20.73569</td>\n",
       "      <td>7778.0</td>\n",
       "      <td>301.0</td>\n",
       "      <td>2.0</td>\n",
       "      <td>581.0</td>\n",
       "      <td>1.055431e+19</td>\n",
       "      <td>0.000000</td>\n",
       "      <td>9374.0</td>\n",
       "      <td>57749.0</td>\n",
       "      <td>438.0</td>\n",
       "    </tr>\n",
       "    <tr>\n",
       "      <th>99996</th>\n",
       "      <td>1.237679e+18</td>\n",
       "      <td>29.493819</td>\n",
       "      <td>19.798874</td>\n",
       "      <td>22.69118</td>\n",
       "      <td>22.38628</td>\n",
       "      <td>20.45003</td>\n",
       "      <td>19.75759</td>\n",
       "      <td>19.41526</td>\n",
       "      <td>7917.0</td>\n",
       "      <td>301.0</td>\n",
       "      <td>1.0</td>\n",
       "      <td>289.0</td>\n",
       "      <td>8.586351e+18</td>\n",
       "      <td>0.404895</td>\n",
       "      <td>7626.0</td>\n",
       "      <td>56934.0</td>\n",
       "      <td>866.0</td>\n",
       "    </tr>\n",
       "    <tr>\n",
       "      <th>99997</th>\n",
       "      <td>1.237668e+18</td>\n",
       "      <td>224.587407</td>\n",
       "      <td>15.700707</td>\n",
       "      <td>21.16916</td>\n",
       "      <td>19.26997</td>\n",
       "      <td>18.20428</td>\n",
       "      <td>17.69034</td>\n",
       "      <td>17.35221</td>\n",
       "      <td>5314.0</td>\n",
       "      <td>301.0</td>\n",
       "      <td>4.0</td>\n",
       "      <td>308.0</td>\n",
       "      <td>3.112008e+18</td>\n",
       "      <td>0.143366</td>\n",
       "      <td>2764.0</td>\n",
       "      <td>54535.0</td>\n",
       "      <td>74.0</td>\n",
       "    </tr>\n",
       "    <tr>\n",
       "      <th>99998</th>\n",
       "      <td>1.237661e+18</td>\n",
       "      <td>212.268621</td>\n",
       "      <td>46.660365</td>\n",
       "      <td>25.35039</td>\n",
       "      <td>21.63757</td>\n",
       "      <td>19.91386</td>\n",
       "      <td>19.07254</td>\n",
       "      <td>18.62482</td>\n",
       "      <td>3650.0</td>\n",
       "      <td>301.0</td>\n",
       "      <td>4.0</td>\n",
       "      <td>131.0</td>\n",
       "      <td>7.601080e+18</td>\n",
       "      <td>0.455040</td>\n",
       "      <td>6751.0</td>\n",
       "      <td>56368.0</td>\n",
       "      <td>470.0</td>\n",
       "    </tr>\n",
       "    <tr>\n",
       "      <th>99999</th>\n",
       "      <td>1.237661e+18</td>\n",
       "      <td>196.896053</td>\n",
       "      <td>49.464643</td>\n",
       "      <td>22.62171</td>\n",
       "      <td>21.79745</td>\n",
       "      <td>20.60115</td>\n",
       "      <td>20.00959</td>\n",
       "      <td>19.28075</td>\n",
       "      <td>3650.0</td>\n",
       "      <td>301.0</td>\n",
       "      <td>4.0</td>\n",
       "      <td>60.0</td>\n",
       "      <td>8.343152e+18</td>\n",
       "      <td>0.542944</td>\n",
       "      <td>7410.0</td>\n",
       "      <td>57104.0</td>\n",
       "      <td>851.0</td>\n",
       "    </tr>\n",
       "  </tbody>\n",
       "</table>\n",
       "<p>100000 rows × 17 columns</p>\n",
       "</div>"
      ],
      "text/plain": [
       "             obj_ID       alpha      delta         u         g         r  \\\n",
       "0      1.237661e+18  135.689107  32.494632  23.87882  22.27530  20.39501   \n",
       "1      1.237665e+18  144.826101  31.274185  24.77759  22.83188  22.58444   \n",
       "2      1.237661e+18  142.188790  35.582444  25.26307  22.66389  20.60976   \n",
       "3      1.237663e+18  338.741038  -0.402828  22.13682  23.77656  21.61162   \n",
       "4      1.237680e+18  345.282593  21.183866  19.43718  17.58028  16.49747   \n",
       "...             ...         ...        ...       ...       ...       ...   \n",
       "99995  1.237679e+18   39.620709  -2.594074  22.16759  22.97586  21.90404   \n",
       "99996  1.237679e+18   29.493819  19.798874  22.69118  22.38628  20.45003   \n",
       "99997  1.237668e+18  224.587407  15.700707  21.16916  19.26997  18.20428   \n",
       "99998  1.237661e+18  212.268621  46.660365  25.35039  21.63757  19.91386   \n",
       "99999  1.237661e+18  196.896053  49.464643  22.62171  21.79745  20.60115   \n",
       "\n",
       "              i         z  run_ID  rerun_ID  cam_col  field_ID   spec_obj_ID  \\\n",
       "0      19.16573  18.79371  3606.0     301.0      2.0      79.0  6.543777e+18   \n",
       "1      21.16812  21.61427  4518.0     301.0      5.0     119.0  1.176014e+19   \n",
       "2      19.34857  18.94827  3606.0     301.0      2.0     120.0  5.152200e+18   \n",
       "3      20.50454  19.25010  4192.0     301.0      3.0     214.0  1.030107e+19   \n",
       "4      15.97711  15.54461  8102.0     301.0      3.0     137.0  6.891865e+18   \n",
       "...         ...       ...     ...       ...      ...       ...           ...   \n",
       "99995  21.30548  20.73569  7778.0     301.0      2.0     581.0  1.055431e+19   \n",
       "99996  19.75759  19.41526  7917.0     301.0      1.0     289.0  8.586351e+18   \n",
       "99997  17.69034  17.35221  5314.0     301.0      4.0     308.0  3.112008e+18   \n",
       "99998  19.07254  18.62482  3650.0     301.0      4.0     131.0  7.601080e+18   \n",
       "99999  20.00959  19.28075  3650.0     301.0      4.0      60.0  8.343152e+18   \n",
       "\n",
       "       redshift    plate      MJD  fiber_ID  \n",
       "0      0.634794   5812.0  56354.0     171.0  \n",
       "1      0.779136  10445.0  58158.0     427.0  \n",
       "2      0.644195   4576.0  55592.0     299.0  \n",
       "3      0.932346   9149.0  58039.0     775.0  \n",
       "4      0.116123   6121.0  56187.0     842.0  \n",
       "...         ...      ...      ...       ...  \n",
       "99995  0.000000   9374.0  57749.0     438.0  \n",
       "99996  0.404895   7626.0  56934.0     866.0  \n",
       "99997  0.143366   2764.0  54535.0      74.0  \n",
       "99998  0.455040   6751.0  56368.0     470.0  \n",
       "99999  0.542944   7410.0  57104.0     851.0  \n",
       "\n",
       "[100000 rows x 17 columns]"
      ]
     },
     "execution_count": 23,
     "metadata": {},
     "output_type": "execute_result"
    }
   ],
   "source": [
    "X = pd.DataFrame(X, columns=dataset.columns)\n",
    "X"
   ]
  },
  {
   "cell_type": "code",
   "execution_count": 24,
   "id": "2003993c",
   "metadata": {},
   "outputs": [],
   "source": [
    "X.drop([\"run_ID\", \"rerun_ID\", \"cam_col\", \"field_ID\", \"fiber_ID\", \"obj_ID\", \"alpha\"], axis=1, inplace=True)"
   ]
  },
  {
   "cell_type": "code",
   "execution_count": 25,
   "id": "7e134b81",
   "metadata": {},
   "outputs": [],
   "source": [
    "X_train, X_test, y_train, y_test = train_test_split(X, y, test_size = 0.30, random_state = 12)"
   ]
  },
  {
   "cell_type": "code",
   "execution_count": 26,
   "id": "88cc9325",
   "metadata": {},
   "outputs": [
    {
     "name": "stdout",
     "output_type": "stream",
     "text": [
      "Eğitim verileri = (70000, 10)\n",
      "Eğitim etiketleri = (70000,)\n",
      "Test verileri = (30000, 10)\n",
      "Test etiketleri = (30000,)\n"
     ]
    }
   ],
   "source": [
    "print(\"Eğitim verileri =\", X_train.shape)\n",
    "print(\"Eğitim etiketleri =\", y_train.shape)\n",
    "print(\"Test verileri =\", X_test.shape)\n",
    "print(\"Test etiketleri =\", y_test.shape)"
   ]
  },
  {
   "cell_type": "code",
   "execution_count": 27,
   "id": "0ffc47c6",
   "metadata": {},
   "outputs": [
    {
     "name": "stdout",
     "output_type": "stream",
     "text": [
      "Eğitim için GALAXY(0) sınıfına ait veri sayısı = 41600\n",
      "Eğitim için QSO(1) sınıfına ait veri sayısı = 13394\n",
      "Eğitim için STAR(2) sınıfına ait veri sayısı = 15006\n",
      "Test için GALAXY(0) sınıfına ait veri sayısı = 17845\n",
      "Test için QSO(1) sınıfına ait veri sayısı = 5567\n",
      "Test için STAR(2) sınıfına ait veri sayısı = 6588\n"
     ]
    }
   ],
   "source": [
    "print(\"Eğitim için GALAXY(0) sınıfına ait veri sayısı =\", len(y_train[y_train==0]))\n",
    "print(\"Eğitim için QSO(1) sınıfına ait veri sayısı =\", len(y_train[y_train==1]))\n",
    "print(\"Eğitim için STAR(2) sınıfına ait veri sayısı =\", len(y_train[y_train==2]))\n",
    "print(\"Test için GALAXY(0) sınıfına ait veri sayısı =\", len(y_test[y_test==0]))\n",
    "print(\"Test için QSO(1) sınıfına ait veri sayısı =\", len(y_test[y_test==1]))\n",
    "print(\"Test için STAR(2) sınıfına ait veri sayısı =\", len(y_test[y_test==2]))"
   ]
  },
  {
   "cell_type": "code",
   "execution_count": 28,
   "id": "c588e4a1",
   "metadata": {},
   "outputs": [],
   "source": [
    "sc = StandardScaler()\n",
    "X_train = sc.fit_transform(X_train)\n",
    "X_test = sc.transform(X_test)"
   ]
  },
  {
   "cell_type": "code",
   "execution_count": 29,
   "id": "4b049313",
   "metadata": {},
   "outputs": [
    {
     "name": "stdout",
     "output_type": "stream",
     "text": [
      "              precision    recall  f1-score   support\n",
      "\n",
      "      GALAXY     0.9787    0.9876    0.9831     17845\n",
      "         QSO     0.9657    0.9312    0.9481      5567\n",
      "        STAR     0.9940    0.9997    0.9968      6588\n",
      "\n",
      "    accuracy                         0.9798     30000\n",
      "   macro avg     0.9795    0.9728    0.9760     30000\n",
      "weighted avg     0.9797    0.9798    0.9796     30000\n",
      "\n"
     ]
    }
   ],
   "source": [
    "classifier = RandomForestClassifier()\n",
    "classifier.fit(X_train, y_train)\n",
    "y_pred = classifier.predict(X_test)\n",
    "print(classification_report(y_test, y_pred, target_names=['GALAXY', 'QSO', 'STAR'], digits=4))"
   ]
  },
  {
   "cell_type": "markdown",
   "id": "bdd8d33f",
   "metadata": {},
   "source": [
    "## Data Balancing"
   ]
  },
  {
   "cell_type": "code",
   "execution_count": 30,
   "id": "7df6c5a6",
   "metadata": {},
   "outputs": [
    {
     "data": {
      "text/plain": [
       "<AxesSubplot:ylabel='count'>"
      ]
     },
     "execution_count": 30,
     "metadata": {},
     "output_type": "execute_result"
    },
    {
     "data": {
      "image/png": "[encoded data removed]",
      "text/plain": [
       "<Figure size 640x480 with 1 Axes>"
      ]
     },
     "metadata": {},
     "output_type": "display_data"
    }
   ],
   "source": [
    "sns.countplot(x=y)"
   ]
  },
  {
   "cell_type": "code",
   "execution_count": 31,
   "id": "d569c82a",
   "metadata": {},
   "outputs": [],
   "source": [
    "sm = SMOTE(random_state=42)\n",
    "X, y = sm.fit_resample(X, y)"
   ]
  },
  {
   "cell_type": "code",
   "execution_count": 32,
   "id": "abc77cac",
   "metadata": {},
   "outputs": [
    {
     "data": {
      "text/plain": [
       "<AxesSubplot:ylabel='count'>"
      ]
     },
     "execution_count": 32,
     "metadata": {},
     "output_type": "execute_result"
    },
    {
     "data": {
      "image/png": "[encoded data removed]",
      "text/plain": [
       "<Figure size 640x480 with 1 Axes>"
      ]
     },
     "metadata": {},
     "output_type": "display_data"
    }
   ],
   "source": [
    "sns.countplot(x=y)"
   ]
  },
  {
   "cell_type": "code",
   "execution_count": 33,
   "id": "f4224363",
   "metadata": {},
   "outputs": [],
   "source": [
    "X_train, X_test, y_train, y_test = train_test_split(X, y, test_size = 0.30, random_state = 12)"
   ]
  },
  {
   "cell_type": "code",
   "execution_count": 34,
   "id": "6748c07f",
   "metadata": {},
   "outputs": [
    {
     "name": "stdout",
     "output_type": "stream",
     "text": [
      "Eğitim verileri = (124834, 10)\n",
      "Eğitim etiketleri = (124834,)\n",
      "Test verileri = (53501, 10)\n",
      "Test etiketleri = (53501,)\n"
     ]
    }
   ],
   "source": [
    "print(\"Eğitim verileri =\", X_train.shape)\n",
    "print(\"Eğitim etiketleri =\", y_train.shape)\n",
    "print(\"Test verileri =\", X_test.shape)\n",
    "print(\"Test etiketleri =\", y_test.shape)"
   ]
  },
  {
   "cell_type": "code",
   "execution_count": 35,
   "id": "88a62670",
   "metadata": {},
   "outputs": [
    {
     "name": "stdout",
     "output_type": "stream",
     "text": [
      "Eğitim için GALAXY(0) sınıfına ait veri sayısı = 41715\n",
      "Eğitim için QSO(1) sınıfına ait veri sayısı = 41496\n",
      "Eğitim için STAR(2) sınıfına ait veri sayısı = 41623\n",
      "Test için GALAXY(0) sınıfına ait veri sayısı = 17730\n",
      "Test için QSO(1) sınıfına ait veri sayısı = 17949\n",
      "Test için STAR(2) sınıfına ait veri sayısı = 17822\n"
     ]
    }
   ],
   "source": [
    "print(\"Eğitim için GALAXY(0) sınıfına ait veri sayısı =\", len(y_train[y_train==0]))\n",
    "print(\"Eğitim için QSO(1) sınıfına ait veri sayısı =\", len(y_train[y_train==1]))\n",
    "print(\"Eğitim için STAR(2) sınıfına ait veri sayısı =\", len(y_train[y_train==2]))\n",
    "print(\"Test için GALAXY(0) sınıfına ait veri sayısı =\", len(y_test[y_test==0]))\n",
    "print(\"Test için QSO(1) sınıfına ait veri sayısı =\", len(y_test[y_test==1]))\n",
    "print(\"Test için STAR(2) sınıfına ait veri sayısı =\", len(y_test[y_test==2]))"
   ]
  },
  {
   "cell_type": "code",
   "execution_count": 36,
   "id": "f0665f46",
   "metadata": {},
   "outputs": [],
   "source": [
    "sc = StandardScaler()\n",
    "X_train = sc.fit_transform(X_train)\n",
    "X_test = sc.transform(X_test)"
   ]
  },
  {
   "cell_type": "code",
   "execution_count": 37,
   "id": "3f997cf3",
   "metadata": {},
   "outputs": [
    {
     "name": "stdout",
     "output_type": "stream",
     "text": [
      "              precision    recall  f1-score   support\n",
      "\n",
      "      GALAXY     0.9706    0.9798    0.9751     17730\n",
      "         QSO     0.9830    0.9706    0.9768     17949\n",
      "        STAR     0.9966    0.9999    0.9983     17822\n",
      "\n",
      "    accuracy                         0.9834     53501\n",
      "   macro avg     0.9834    0.9834    0.9834     53501\n",
      "weighted avg     0.9834    0.9834    0.9834     53501\n",
      "\n"
     ]
    }
   ],
   "source": [
    "classifier = RandomForestClassifier()\n",
    "classifier.fit(X_train, y_train)\n",
    "y_pred = classifier.predict(X_test)\n",
    "print(classification_report(y_test, y_pred, target_names=['GALAXY', 'QSO', 'STAR'], digits=4))"
   ]
  }
 ],
 "metadata": {
  "kernelspec": {
   "display_name": "Python 3 (ipykernel)",
   "language": "python",
   "name": "python3"
  },
  "language_info": {
   "codemirror_mode": {
    "name": "ipython",
    "version": 3
   },
   "file_extension": ".py",
   "mimetype": "text/x-python",
   "name": "python",
   "nbconvert_exporter": "python",
   "pygments_lexer": "ipython3",
   "version": "3.9.13"
  }
 },
 "nbformat": 4,
 "nbformat_minor": 5
}
